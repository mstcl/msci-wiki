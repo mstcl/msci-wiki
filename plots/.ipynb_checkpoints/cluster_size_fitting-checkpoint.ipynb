{
  "cells": [
    {
      "cell_type": "raw",
      "metadata": {},
      "source": [
        "---\n",
        "title: Fitting cluster distribution\n",
        "execute:\n",
        "  cache: true\n",
        "---"
      ]
    },
    {
      "cell_type": "markdown",
      "metadata": {},
      "source": [
        "According to Soto & Golestanian (2014), the cluster size distribution can be modeled as:\n",
        "\n",
        "$$F_c = cA^{-ν}e^{−A/A_c}$$\n",
        "\n",
        "where it was found that $v$ lies in the range 1 to 1.5 for 2D lattices.\n"
      ]
    },
    {
      "cell_type": "code",
      "metadata": {},
      "source": [
        "import os\n",
        "os.chdir(\"/hades/projects/persistent-exclusion-process/src\")\n",
        "\n",
        "from utils import get_cluster_labels\n",
        "from plot_utils import get_plot_configs\n",
        "\n",
        "import glob\n",
        "\n",
        "import matplotlib.pyplot as plt\n",
        "from cmcrameri import cm\n",
        "from scipy.optimize import curve_fit\n",
        "import numpy as np\n",
        "\n",
        "files = glob.glob(\"../bp_data/dataset*\")"
      ],
      "execution_count": null,
      "outputs": []
    },
    {
      "cell_type": "markdown",
      "metadata": {},
      "source": [
        "## Getting the curve fit parameters"
      ]
    },
    {
      "cell_type": "code",
      "metadata": {},
      "source": [
        "def dist(x, v):\n",
        "    return x**(-v)\n",
        "\n",
        "\n",
        "def get_colours(alpha):\n",
        "    return cm.batlow(np.linspace(0, 1, 9), alpha)\n",
        "\n",
        "\n",
        "plot_configs = get_plot_configs()\n",
        "plot_configs[\"xtick.labelsize\"] = 12\n",
        "plot_configs[\"ytick.labelsize\"] = 12\n",
        "plt.rcParams.update(plot_configs)\n",
        "\n",
        "fig, (axis) = plt.subplots(1, 1, figsize=(6, 4), constrained_layout=True)\n",
        "axis.grid(alpha=0.3)\n",
        "axis.set_axisbelow(True)\n",
        "\n",
        "fits = {}\n",
        "\n",
        "for idx, f in enumerate(sorted(files)):\n",
        "    labelled, _ = get_cluster_labels(f, -1)\n",
        "    cluster_sizes = np.bincount(labelled.flatten())[1:]\n",
        "    min_c = cluster_sizes.min()\n",
        "    max_c = cluster_sizes.max()\n",
        "    bin_edges = np.logspace(np.log2(min_c), np.log2(max_c), 32, base=2)\n",
        "    counts, _ = np.histogram(cluster_sizes, bins=bin_edges, density=True)\n",
        "    good_idx = np.where(counts != 0e0)[0]\n",
        "    bin_edges = bin_edges[:-1]\n",
        "    bin_edges = bin_edges[good_idx]\n",
        "    counts = counts[good_idx]\n",
        "    cfit, _ = np.polyfit(np.log(bin_edges), np.log(counts), 1)\n",
        "    fits[f] = cfit\n",
        "    axis.plot(\n",
        "        np.log(bin_edges),\n",
        "        np.log(counts),\n",
        "        linestyle='none',\n",
        "        marker=\"o\",\n",
        "        markerfacecolor=get_colours(0.1)[idx],\n",
        "        markeredgecolor=get_colours(0.4)[idx],\n",
        "    )\n",
        "    axis.plot(\n",
        "        np.log(bin_edges),\n",
        "        cfit*np.log(bin_edges) + np.log(counts[0]),\n",
        "        c=get_colours(1)[idx]\n",
        "    )\n",
        "print(fits.items())\n",
        "plt.show()"
      ],
      "execution_count": null,
      "outputs": []
    }
  ],
  "metadata": {
    "kernelspec": {
      "display_name": "Python 3",
      "language": "python",
      "name": "python3"
    }
  },
  "nbformat": 4,
  "nbformat_minor": 4
}